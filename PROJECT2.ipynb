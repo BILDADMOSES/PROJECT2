{
 "cells": [
  {
   "cell_type": "code",
   "execution_count": 26,
   "metadata": {},
   "outputs": [
    {
     "data": {
      "text/plain": [
       "\"'data = np.column_stack(( df.V1, df.V2))  # we use only V1 and V2\\n\\n# compute K-Means\\nkm_res = KMeans(n_clusters = 2).fit(data)\\nclusters = km_res.cluster_centers_\\n\\n# put the assigned labels to the original dataset\\n#Assigns the values to their respective clusters\\ndf['KMeans'] = km_res.labels_\\ndf\\n#plot out the result                                     \\n#FacetGrid is used to plot multivariable distribution    #df = dataframe,\\ng = sb.FacetGrid(data = df, hue = 'KMeans', height = 9)  #height is in place of size,\\n                                                         #row,col,hue = variables defining the subsets of data which willl be drawn\\n\\ng.map(plt.scatter, 'V1', 'V2')\\ng.add_legend();\\nplt.scatter(clusters[:,0], clusters[:,1], s=1000, marker='*', c='red')\""
      ]
     },
     "execution_count": 26,
     "metadata": {},
     "output_type": "execute_result"
    }
   ],
   "source": [
    "from scipy.io import arff\n",
    "import pandas as pd\n",
    "import numpy as np\n",
    "import matplotlib.pyplot as plt\n",
    "import seaborn as sb\n",
    "from sklearn.datasets.samples_generator import (make_blobs,\n",
    "                                                make_circles,\n",
    "                                                make_moons)\n",
    "from sklearn.cluster import KMeans, SpectralClustering\n",
    "\n",
    "data = arff.loadarff('banknote_ver.arff')\n",
    "df = pd.DataFrame(data[0])\n",
    "data = np.column_stack(( df.V1, df.V2))  # we use only V1 and V2\n",
    "\n",
    "# compute K-Means\n",
    "km_res = KMeans(n_clusters = 2).fit(data)\n",
    "clusters = km_res.cluster_centers_\n",
    "\n",
    "# put the assigned labels to the original dataset\n",
    "#Assigns the values to their respective clusters\n",
    "df['KMeans'] = km_res.labels_\n",
    "df\n",
    "#plot out the result                                     \n",
    "#FacetGrid is used to plot multivariable distribution    #df = dataframe,\n",
    "g = sb.FacetGrid(data = df, hue = 'KMeans', height = 9)  #height is in place of size,\n",
    "                                                         #row,col,hue = variables defining the subsets of data which willl be drawn\n",
    "\n",
    "g.map(plt.scatter, 'V1', 'V2')\n",
    "g.add_legend();\n",
    "plt.scatter(clusters[:,0], clusters[:,1], s=1000, marker='*', c='red')"
   ]
  }
 ],
 "metadata": {
  "kernelspec": {
   "display_name": "Python 3",
   "language": "python",
   "name": "python3"
  },
  "language_info": {
   "codemirror_mode": {
    "name": "ipython",
    "version": 3
   },
   "file_extension": ".py",
   "mimetype": "text/x-python",
   "name": "python",
   "nbconvert_exporter": "python",
   "pygments_lexer": "ipython3",
   "version": "3.6.3"
  }
 },
 "nbformat": 4,
 "nbformat_minor": 2
}
